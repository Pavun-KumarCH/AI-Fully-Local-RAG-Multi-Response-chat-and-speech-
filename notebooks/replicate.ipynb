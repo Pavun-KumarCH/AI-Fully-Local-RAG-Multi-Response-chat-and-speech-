{
 "cells": [
  {
   "cell_type": "code",
   "execution_count": 2,
   "metadata": {},
   "outputs": [
    {
     "name": "stdout",
     "output_type": "stream",
     "text": [
      "True\n"
     ]
    }
   ],
   "source": [
    "import replicate\n",
    "from dotenv import load_dotenv, find_dotenv\n",
    "load_dotenv(find_dotenv())"
   ]
  },
  {
   "cell_type": "code",
   "execution_count": 3,
   "metadata": {},
   "outputs": [
    {
     "name": "stdout",
     "output_type": "stream",
     "text": [
      ", there were 3 llamas. They decided to go for a walk. So they crossed a bridge. On the other side of the bridge, there was a very tall tree. The llamas were very curious and decided to climb the tree. But when they reached the top, they realized that there was a very dangerous snake at the top of the tree. The snake was very hungry and was waiting for the llamas to come up. The llamas were very scared and started to run down the tree. But the snake was very fast and caught one of the llamas. The other two llamas were very sad and decided to go back home. But they realized that they had left their friend behind. So they went back to the tree and tried to save their friend. But the snake was still there and was very angry. The llamas were very brave and tried to fight the snake. But the snake was too strong and the llamas were too weak. The snake ate the llamas and they were never seen again.\n"
     ]
    }
   ],
   "source": [
    "import replicate\n",
    "\n",
    "input = {\n",
    "    \"top_p\": 0.9,\n",
    "    \"prompt\": \"Story title: 3 llamas go for a walk\\nSummary: The 3 llamas crossed a bridge and something unexpected happened\\n\\nOnce upon a time\",\n",
    "    \"min_tokens\": 0,\n",
    "    \"temperature\": 0.6,\n",
    "    \"presence_penalty\": 1.15\n",
    "}\n",
    "\n",
    "for event in replicate.stream(\n",
    "    \"meta/meta-llama-3-8b\",\n",
    "    input=input\n",
    "):\n",
    "    print(event, end=\"\")\n",
    "#=> \" there were 3 llamas. They were very friendly and they d..."
   ]
  }
 ],
 "metadata": {
  "kernelspec": {
   "display_name": "RAG",
   "language": "python",
   "name": "python3"
  },
  "language_info": {
   "codemirror_mode": {
    "name": "ipython",
    "version": 3
   },
   "file_extension": ".py",
   "mimetype": "text/x-python",
   "name": "python",
   "nbconvert_exporter": "python",
   "pygments_lexer": "ipython3",
   "version": "3.12.5"
  }
 },
 "nbformat": 4,
 "nbformat_minor": 2
}
