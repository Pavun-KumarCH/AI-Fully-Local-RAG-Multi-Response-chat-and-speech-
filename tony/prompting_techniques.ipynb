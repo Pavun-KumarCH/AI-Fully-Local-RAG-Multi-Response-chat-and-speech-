{
  "nbformat": 4,
  "nbformat_minor": 0,
  "metadata": {
    "colab": {
      "provenance": []
    },
    "kernelspec": {
      "name": "python3",
      "display_name": "Python 3"
    },
    "language_info": {
      "name": "python"
    }
  },
  "cells": [
    {
      "cell_type": "markdown",
      "source": [],
      "metadata": {
        "id": "aUcCBh0uQMIa"
      }
    },
    {
      "cell_type": "code",
      "source": [
        "from langchain_google_genai import GoogleGenerativeAI\n",
        "from dotenv import load_dotenv\n",
        "import random\n",
        "from collections import Counter"
      ],
      "metadata": {
        "id": "Eluj-rQRTEYG"
      },
      "execution_count": null,
      "outputs": []
    },
    {
      "cell_type": "markdown",
      "source": [
        "# **COT**"
      ],
      "metadata": {
        "id": "atO7eL-5QUvY"
      }
    },
    {
      "cell_type": "code",
      "execution_count": null,
      "metadata": {
        "id": "1yHcIG4AP_Ji"
      },
      "outputs": [],
      "source": [
        "\n",
        "def generate_questions_with_CoT(prompt, num_questions=5):\n",
        "    # Chain of Thought prompt to guide the AI in generating questions\n",
        "    question_prompt = f\"\"\"\n",
        "    You are an intelligent Quiz master and the Uniqueness of Questions you generate is crucial to the conceptual understanding of future students!\n",
        "    Please generate {num_questions} high-quality multiple-choice questions on the topic of \"{prompt}\".\n",
        "\n",
        "    For each question:\n",
        "    1. First, think of a key concept or idea from the topic.\n",
        "    2. Then, generate a clear and concise question based on that concept.\n",
        "    3. Next, provide 4 possible answer choices, with one being the correct answer and the other three being plausible distractors.\n",
        "    4. Finally, explain why the correct answer is the right one.\n",
        "\n",
        "    Use a step-by-step reasoning approach to ensure the questions are challenging but clear.\n",
        "    \"\"\"\n",
        "\n",
        "    # Generate the response using the model (passing the prompt as a list)\n",
        "    response = model.generate(prompts=[question_prompt])\n",
        "\n",
        "    # Extract the questions from the response\n",
        "    questions = response.generations[0][0].text  # Adjust based on actual response structure\n",
        "\n",
        "    return questions\n",
        "\n",
        "# Example usage\n",
        "main_topic = \"Quantum Mechanics\"\n",
        "questions_with_CoT = generate_questions_with_CoT(main_topic, num_questions=5)\n",
        "\n",
        "# Print generated questions\n",
        "print(questions_with_CoT)"
      ]
    },
    {
      "cell_type": "markdown",
      "source": [
        "# **SC**"
      ],
      "metadata": {
        "id": "ejhO3DJ2RbIi"
      }
    },
    {
      "cell_type": "code",
      "source": [
        "\n",
        "def generate_questions_with_self_consistency(prompt, num_questions=5, num_trials=3):\n",
        "    # Simple prompt to generate multiple-choice questions\n",
        "    question_prompt = f\"\"\"\n",
        "    Generate {num_questions} multiple-choice questions on the topic \"{prompt}\".\n",
        "\n",
        "    Each question should include:\n",
        "    - A clear and concise question\n",
        "    - Four possible answers: one correct answer and three plausible distractors\n",
        "    \"\"\"\n",
        "\n",
        "    # Generate multiple responses to ensure self-consistency\n",
        "    all_responses = []\n",
        "    for _ in range(num_trials):\n",
        "        # Using the generate() method and passing the prompt as a list\n",
        "        response = model.generate(prompts=[question_prompt])\n",
        "\n",
        "        # Extract the generated questions from the response (adjust according to actual response format)\n",
        "        all_responses.append(response.generations[0][0].text)\n",
        "\n",
        "    # Process and aggregate the results using self-consistency\n",
        "    consistent_questions = aggregate_consistent_answers(all_responses)\n",
        "\n",
        "    return consistent_questions\n",
        "\n",
        "def aggregate_consistent_answers(all_responses):\n",
        "    # Count the frequency of each response to find the most consistent one\n",
        "    questions_counter = Counter(all_responses)\n",
        "\n",
        "    # Return the most frequent questions (top consistent results)\n",
        "    most_consistent = questions_counter.most_common(1)[0][0]\n",
        "\n",
        "    return most_consistent\n",
        "\n",
        "# Example usage\n",
        "main_topic = \"Artificial Intelligence\"\n",
        "questions_with_self_consistency = generate_questions_with_self_consistency(main_topic, num_questions=5, num_trials=3)\n",
        "\n",
        "# Print the generated questions with self-consistency\n",
        "print(questions_with_self_consistency)"
      ],
      "metadata": {
        "id": "_03XsyFwRaB0"
      },
      "execution_count": null,
      "outputs": []
    },
    {
      "cell_type": "markdown",
      "source": [
        "# **COT_SC**"
      ],
      "metadata": {
        "id": "WGDecjm-S3Uh"
      }
    },
    {
      "cell_type": "code",
      "source": [
        "def generate_questions_with_CoT_and_SC(prompt, num_questions=5, num_trials=3):\n",
        "    # Chain of Thought prompt to guide the AI in generating questions with self-consistency\n",
        "    question_prompt = f\"\"\"\n",
        "    You are an AI expert in educational content creation.\n",
        "    Please generate {num_questions} high-quality multiple-choice questions on the topic of \"{prompt}\".\n",
        "\n",
        "    For each question:\n",
        "    1. First, identify a key concept or idea from the topic.\n",
        "    2. Generate a clear and concise question that tests that concept.\n",
        "    3. Provide 4 answer choices: one correct answer and three plausible distractors.\n",
        "    4. Explain why the correct answer is right and why the other options are incorrect.\n",
        "\n",
        "    Use step-by-step reasoning to ensure the questions are challenging but clear.\n",
        "    \"\"\"\n",
        "\n",
        "    # Generate multiple responses to ensure self-consistency\n",
        "    all_responses = []\n",
        "    for _ in range(num_trials):\n",
        "        # Using the generate() method and passing the prompt as a list\n",
        "        response = model.generate(prompts=[question_prompt])\n",
        "\n",
        "        # Extract the generated questions from the response (adjust according to actual response format)\n",
        "        all_responses.append(response.generations[0][0].text)\n",
        "\n",
        "    # Process and aggregate the results using self-consistency\n",
        "    consistent_questions = aggregate_consistent_answers(all_responses)\n",
        "\n",
        "    return consistent_questions\n",
        "\n",
        "def aggregate_consistent_answers(all_responses):\n",
        "    # Count the frequency of each response to find the most consistent one\n",
        "    questions_counter = Counter(all_responses)\n",
        "\n",
        "    # Return the most frequent questions (top consistent results)\n",
        "    most_consistent = questions_counter.most_common(1)[0][0]\n",
        "\n",
        "    return most_consistent\n",
        "\n",
        "# Example usage\n",
        "main_topic = \"Quantum Mechanics\"\n",
        "questions_with_CoT_and_SC = generate_questions_with_CoT_and_SC(main_topic, num_questions=5, num_trials=3)\n",
        "\n",
        "# Print the generated questions with CoT and self-consistency\n",
        "print(questions_with_CoT_and_SC)"
      ],
      "metadata": {
        "id": "-k1k6hc-S1cV"
      },
      "execution_count": null,
      "outputs": []
    }
  ]
}